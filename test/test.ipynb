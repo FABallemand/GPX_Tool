{
 "cells": [
  {
   "attachments": {},
   "cell_type": "markdown",
   "metadata": {},
   "source": [
    "# Repair GPX Files"
   ]
  },
  {
   "cell_type": "code",
   "execution_count": 1,
   "metadata": {},
   "outputs": [],
   "source": [
    "import os, sys\n",
    "import copy\n",
    "import gpxpy\n",
    "import gpxpy.gpx\n",
    "import gpxpy.geo\n",
    "import pandas as pd\n",
    "import matplotlib.pyplot as plt"
   ]
  },
  {
   "attachments": {},
   "cell_type": "markdown",
   "metadata": {},
   "source": [
    "## Load File"
   ]
  },
  {
   "cell_type": "code",
   "execution_count": 2,
   "metadata": {},
   "outputs": [],
   "source": [
    "FILE_PATH = \"test_files/files/\"\n",
    "REFERENCE_PATH = \"test_files/reference_files/\"\n",
    "RESULT_PATH = \"test_files/result_files/\"\n",
    "\n",
    "\n",
    "FILE_NAME_1 = \"29_04_2023.gpx\"\n",
    "FILE_NAME_2 = \"30_04_2023.gpx\"\n",
    "\n",
    "with open(os.path.join(FILE_PATH, FILE_NAME_1), \"r\") as gpx_file:\n",
    "    gpx = gpxpy.parse(gpx_file)"
   ]
  },
  {
   "attachments": {},
   "cell_type": "markdown",
   "metadata": {},
   "source": [
    "## Parse File\n",
    "Parse GPX file in order to retrieve lost data."
   ]
  },
  {
   "cell_type": "code",
   "execution_count": 3,
   "metadata": {},
   "outputs": [],
   "source": [
    "gpx.author_name"
   ]
  },
  {
   "cell_type": "code",
   "execution_count": 4,
   "metadata": {},
   "outputs": [],
   "source": [
    "gpx.name"
   ]
  },
  {
   "cell_type": "code",
   "execution_count": 5,
   "metadata": {},
   "outputs": [],
   "source": [
    "gpx.author_email"
   ]
  },
  {
   "cell_type": "code",
   "execution_count": 6,
   "metadata": {},
   "outputs": [
    {
     "data": {
      "text/plain": [
       "'http://www.garmin.com'"
      ]
     },
     "execution_count": 6,
     "metadata": {},
     "output_type": "execute_result"
    }
   ],
   "source": [
    "gpx.link"
   ]
  },
  {
   "cell_type": "code",
   "execution_count": 7,
   "metadata": {},
   "outputs": [
    {
     "data": {
      "text/plain": [
       "1550"
      ]
     },
     "execution_count": 7,
     "metadata": {},
     "output_type": "execute_result"
    }
   ],
   "source": [
    "# Number of data points in GPX file\n",
    "gpx.get_track_points_no()"
   ]
  },
  {
   "cell_type": "code",
   "execution_count": 8,
   "metadata": {},
   "outputs": [
    {
     "data": {
      "text/plain": [
       "MinimumMaximum(minimum=478.87, maximum=1084.5)"
      ]
     },
     "execution_count": 8,
     "metadata": {},
     "output_type": "execute_result"
    }
   ],
   "source": [
    "# Altitude range\n",
    "gpx.get_elevation_extremes()"
   ]
  },
  {
   "cell_type": "code",
   "execution_count": 9,
   "metadata": {},
   "outputs": [
    {
     "data": {
      "text/plain": [
       "UphillDownhill(uphill=1107.6390000000001, downhill=813.9490000000003)"
      ]
     },
     "execution_count": 9,
     "metadata": {},
     "output_type": "execute_result"
    }
   ],
   "source": [
    "# Elevation gain and loss\n",
    "gpx.get_uphill_downhill()"
   ]
  },
  {
   "cell_type": "code",
   "execution_count": 10,
   "metadata": {},
   "outputs": [
    {
     "data": {
      "text/plain": [
       "TimeBounds(start_time=datetime.datetime(2023, 4, 29, 9, 49, 52, tzinfo=SimpleTZ(\"Z\")), end_time=datetime.datetime(2023, 4, 29, 16, 36, 52, tzinfo=SimpleTZ(\"Z\")))"
      ]
     },
     "execution_count": 10,
     "metadata": {},
     "output_type": "execute_result"
    }
   ],
   "source": [
    "# Time bounds\n",
    "gpx.get_time_bounds()"
   ]
  },
  {
   "cell_type": "code",
   "execution_count": 11,
   "metadata": {},
   "outputs": [
    {
     "data": {
      "text/plain": [
       "24420.0"
      ]
     },
     "execution_count": 11,
     "metadata": {},
     "output_type": "execute_result"
    }
   ],
   "source": [
    "# Duration (in seconds)\n",
    "gpx.get_duration()"
   ]
  },
  {
   "cell_type": "code",
   "execution_count": 12,
   "metadata": {},
   "outputs": [
    {
     "data": {
      "text/plain": [
       "MovingData(moving_time=18386.0, stopped_time=9743.0, moving_distance=22022.339946674754, stopped_distance=1020.3727948517267, max_speed=1.580216114689381)"
      ]
     },
     "execution_count": 12,
     "metadata": {},
     "output_type": "execute_result"
    }
   ],
   "source": [
    "# Moving time, stopped time, moving distance, stopped distance, max speed\n",
    "gpx.get_moving_data()"
   ]
  },
  {
   "attachments": {},
   "cell_type": "markdown",
   "metadata": {},
   "source": [
    "## Visualise File"
   ]
  },
  {
   "cell_type": "code",
   "execution_count": 13,
   "metadata": {},
   "outputs": [
    {
     "data": {
      "text/plain": [
       "Text(0.5, 1.0, 'Track')"
      ]
     },
     "execution_count": 13,
     "metadata": {},
     "output_type": "execute_result"
    },
    {
     "data": {
      "image/png": "[encoded data removed]",
      "text/plain": [
       "<Figure size 1008x576 with 1 Axes>"
      ]
     },
     "metadata": {
      "needs_background": "light"
     },
     "output_type": "display_data"
    }
   ],
   "source": [
    "route_info = []\n",
    "\n",
    "for track in gpx.tracks:\n",
    "    for segment in track.segments:\n",
    "        for point in segment.points:\n",
    "            route_info.append({\n",
    "                \"latitude\": point.latitude,\n",
    "                \"longitude\": point.longitude,\n",
    "                \"elevation\": point.elevation\n",
    "            })\n",
    "\n",
    "route_df = pd.DataFrame(route_info)\n",
    "\n",
    "plt.figure(figsize=(14, 8))\n",
    "plt.scatter(route_df[\"longitude\"], route_df[\"latitude\"], color=\"#101010\")\n",
    "plt.scatter(route_df[\"longitude\"][len(route_df[\"longitude\"])-1], route_df[\"latitude\"][len(route_df[\"longitude\"])-1], color=\"#FF0000\")\n",
    "plt.scatter(route_df[\"longitude\"][len(route_df[\"longitude\"])-2], route_df[\"latitude\"][len(route_df[\"longitude\"])-2], color=\"#FF0000\")\n",
    "plt.title(\"Track\", size=20)"
   ]
  },
  {
   "attachments": {},
   "cell_type": "markdown",
   "metadata": {},
   "source": [
    "## Remove GPS Errors"
   ]
  },
  {
   "cell_type": "code",
   "execution_count": 14,
   "metadata": {},
   "outputs": [],
   "source": [
    "# Create new \"file\"\n",
    "cleaned = gpxpy.gpx.GPX()\n",
    "\n",
    "previous_point = None\n",
    "error_distance = 1000 # in meters\n",
    "\n",
    "for track in gpx.tracks:\n",
    "    # Create track\n",
    "    gpx_track = gpxpy.gpx.GPXTrack()\n",
    "    cleaned.tracks.append(gpx_track)\n",
    "    for segment in track.segments:\n",
    "        # Create segment\n",
    "        gpx_segment = gpxpy.gpx.GPXTrackSegment()\n",
    "        gpx_track.segments.append(gpx_segment)\n",
    "        for point in segment.points:\n",
    "            # Create points\n",
    "            if previous_point is None or gpxpy.geo.haversine_distance(previous_point.latitude,\n",
    "                                                                      previous_point.longitude,\n",
    "                                                                      point.latitude,\n",
    "                                                                      point.longitude) < error_distance:\n",
    "                gpx_segment.points.append(gpxpy.gpx.GPXTrackPoint(point.latitude, point.longitude, elevation=point.elevation))\n",
    "                previous_point = point\n",
    "\n",
    "file = open(os.path.join(RESULT_PATH, FILE_NAME_1[:-4] + \"_cleaned.gpx\"), \"w\")\n",
    "file.write(cleaned.to_xml())\n",
    "file.close()"
   ]
  },
  {
   "cell_type": "code",
   "execution_count": 15,
   "metadata": {},
   "outputs": [
    {
     "data": {
      "text/plain": [
       "Text(0.5, 1.0, 'Track')"
      ]
     },
     "execution_count": 15,
     "metadata": {},
     "output_type": "execute_result"
    },
    {
     "data": {
      "image/png": "[encoded data removed]",
      "text/plain": [
       "<Figure size 1008x576 with 1 Axes>"
      ]
     },
     "metadata": {
      "needs_background": "light"
     },
     "output_type": "display_data"
    }
   ],
   "source": [
    "with open(os.path.join(RESULT_PATH, FILE_NAME_1[:-4] + \"_cleaned.gpx\"), \"r\") as gpx_file:\n",
    "    compressed_gpx = gpxpy.parse(gpx_file)\n",
    "\n",
    "route_info = []\n",
    "\n",
    "for track in compressed_gpx.tracks:\n",
    "    for segment in track.segments:\n",
    "        for point in segment.points:\n",
    "            route_info.append({\n",
    "                \"latitude\": point.latitude,\n",
    "                \"longitude\": point.longitude,\n",
    "                \"elevation\": point.elevation\n",
    "            })\n",
    "\n",
    "route_df = pd.DataFrame(route_info)\n",
    "\n",
    "# Visualize compressed file\n",
    "plt.figure(figsize=(14, 8))\n",
    "plt.scatter(route_df[\"longitude\"], route_df[\"latitude\"], color=\"#101010\")\n",
    "plt.title(\"Track\", size=20)"
   ]
  },
  {
   "attachments": {},
   "cell_type": "markdown",
   "metadata": {},
   "source": [
    "## \"Compress\" File"
   ]
  },
  {
   "attachments": {},
   "cell_type": "markdown",
   "metadata": {},
   "source": [
    "### Compress by Hand"
   ]
  },
  {
   "cell_type": "code",
   "execution_count": 16,
   "metadata": {},
   "outputs": [],
   "source": [
    "# Create new \"file\"\n",
    "compressed = gpxpy.gpx.GPX()\n",
    "\n",
    "i = 0\n",
    "compression_factor = 4\n",
    "\n",
    "for track in gpx.tracks:\n",
    "    # Create track\n",
    "    gpx_track = gpxpy.gpx.GPXTrack()\n",
    "    compressed.tracks.append(gpx_track)\n",
    "    for segment in track.segments:\n",
    "        # Create segment\n",
    "        gpx_segment = gpxpy.gpx.GPXTrackSegment()\n",
    "        gpx_track.segments.append(gpx_segment)\n",
    "        for point in segment.points:\n",
    "            # Create points\n",
    "            i += 1\n",
    "            if i % compression_factor == 0:\n",
    "                gpx_segment.points.append(gpxpy.gpx.GPXTrackPoint(point.latitude, point.longitude, elevation=point.elevation))\n",
    "\n",
    "file = open(os.path.join(RESULT_PATH, FILE_NAME_1[:-4] + \"_reduce.gpx\"), \"w\")\n",
    "file.write(compressed.to_xml())\n",
    "file.close()"
   ]
  },
  {
   "cell_type": "code",
   "execution_count": 17,
   "metadata": {},
   "outputs": [
    {
     "data": {
      "text/plain": [
       "Text(0.5, 1.0, 'Track')"
      ]
     },
     "execution_count": 17,
     "metadata": {},
     "output_type": "execute_result"
    },
    {
     "data": {
      "image/png": "[encoded data removed]",
      "text/plain": [
       "<Figure size 1008x576 with 1 Axes>"
      ]
     },
     "metadata": {
      "needs_background": "light"
     },
     "output_type": "display_data"
    }
   ],
   "source": [
    "with open(os.path.join(RESULT_PATH, FILE_NAME_1[:-4] + \"_reduce.gpx\"), \"r\") as gpx_file:\n",
    "    compressed_gpx = gpxpy.parse(gpx_file)\n",
    "\n",
    "route_info = []\n",
    "\n",
    "for track in compressed_gpx.tracks:\n",
    "    for segment in track.segments:\n",
    "        for point in segment.points:\n",
    "            route_info.append({\n",
    "                \"latitude\": point.latitude,\n",
    "                \"longitude\": point.longitude,\n",
    "                \"elevation\": point.elevation\n",
    "            })\n",
    "\n",
    "route_df = pd.DataFrame(route_info)\n",
    "\n",
    "# Visualize compressed file\n",
    "plt.figure(figsize=(14, 8))\n",
    "plt.scatter(route_df[\"longitude\"], route_df[\"latitude\"], color=\"#101010\")\n",
    "plt.title(\"Track\", size=20)"
   ]
  },
  {
   "attachments": {},
   "cell_type": "markdown",
   "metadata": {},
   "source": [
    "### Compress using gpxpy"
   ]
  },
  {
   "cell_type": "code",
   "execution_count": 18,
   "metadata": {},
   "outputs": [],
   "source": [
    "with open(os.path.join(FILE_PATH, FILE_NAME_1), \"r\") as gpx_file:\n",
    "    compressed = gpxpy.parse(gpx_file)\n",
    "\n",
    "compression_factor = 4\n",
    "\n",
    "compressed.smooth(vertical=True, horizontal=True)\n",
    "compressed.smooth(vertical=False, horizontal=True)\n",
    "compressed.reduce_points(compressed.get_track_points_no()/compression_factor)\n",
    "\n",
    "file = open(os.path.join(RESULT_PATH, FILE_NAME_1[:-4] + \"_gpxpy_reduce.gpx\"), \"w\")\n",
    "file.write(compressed.to_xml())\n",
    "file.close()"
   ]
  },
  {
   "cell_type": "code",
   "execution_count": 19,
   "metadata": {},
   "outputs": [
    {
     "data": {
      "text/plain": [
       "Text(0.5, 1.0, 'Track')"
      ]
     },
     "execution_count": 19,
     "metadata": {},
     "output_type": "execute_result"
    },
    {
     "data": {
      "image/png": "[encoded data removed]",
      "text/plain": [
       "<Figure size 1008x576 with 1 Axes>"
      ]
     },
     "metadata": {
      "needs_background": "light"
     },
     "output_type": "display_data"
    }
   ],
   "source": [
    "with open(os.path.join(RESULT_PATH, FILE_NAME_1[:-4] + \"_gpxpy_reduce.gpx\"), \"r\") as gpx_file:\n",
    "    compressed_gpx = gpxpy.parse(gpx_file)\n",
    "\n",
    "route_info = []\n",
    "\n",
    "for track in compressed_gpx.tracks:\n",
    "    for segment in track.segments:\n",
    "        for point in segment.points:\n",
    "            route_info.append({\n",
    "                \"latitude\": point.latitude,\n",
    "                \"longitude\": point.longitude,\n",
    "                \"elevation\": point.elevation\n",
    "            })\n",
    "\n",
    "route_df = pd.DataFrame(route_info)\n",
    "\n",
    "# Visualize compressed file\n",
    "plt.figure(figsize=(14, 8))\n",
    "plt.scatter(route_df[\"longitude\"], route_df[\"latitude\"], color=\"#101010\")\n",
    "plt.title(\"Track\", size=20)"
   ]
  },
  {
   "attachments": {},
   "cell_type": "markdown",
   "metadata": {},
   "source": [
    "### Simplify using gpxpy"
   ]
  },
  {
   "cell_type": "code",
   "execution_count": 20,
   "metadata": {},
   "outputs": [],
   "source": [
    "with open(os.path.join(FILE_PATH, FILE_NAME_1), \"r\") as gpx_file:\n",
    "    simplified = gpxpy.parse(gpx_file)\n",
    "\n",
    "simplified.smooth(vertical=True, horizontal=True)\n",
    "simplified.smooth(vertical=False, horizontal=True)\n",
    "simplified.simplify()\n",
    "\n",
    "file = open(os.path.join(RESULT_PATH, FILE_NAME_1[:-4] + \"_gpxpy_simplify.gpx\"), \"w\")\n",
    "file.write(simplified.to_xml())\n",
    "file.close()"
   ]
  },
  {
   "cell_type": "code",
   "execution_count": 21,
   "metadata": {},
   "outputs": [
    {
     "data": {
      "text/plain": [
       "Text(0.5, 1.0, 'Track')"
      ]
     },
     "execution_count": 21,
     "metadata": {},
     "output_type": "execute_result"
    },
    {
     "data": {
      "image/png": "[encoded data removed]",
      "text/plain": [
       "<Figure size 1008x576 with 1 Axes>"
      ]
     },
     "metadata": {
      "needs_background": "light"
     },
     "output_type": "display_data"
    }
   ],
   "source": [
    "with open(os.path.join(RESULT_PATH, FILE_NAME_1[:-4] + \"_gpxpy_simplify.gpx\"), \"r\") as gpx_file:\n",
    "    compressed_gpx = gpxpy.parse(gpx_file)\n",
    "\n",
    "route_info = []\n",
    "\n",
    "for track in compressed_gpx.tracks:\n",
    "    for segment in track.segments:\n",
    "        for point in segment.points:\n",
    "            route_info.append({\n",
    "                \"latitude\": point.latitude,\n",
    "                \"longitude\": point.longitude,\n",
    "                \"elevation\": point.elevation\n",
    "            })\n",
    "\n",
    "route_df = pd.DataFrame(route_info)\n",
    "\n",
    "# Visualize compressed file\n",
    "plt.figure(figsize=(14, 8))\n",
    "plt.scatter(route_df[\"longitude\"], route_df[\"latitude\"], color=\"#101010\")\n",
    "plt.title(\"Track\", size=20)"
   ]
  },
  {
   "attachments": {},
   "cell_type": "markdown",
   "metadata": {},
   "source": [
    "## Tests"
   ]
  }
 ],
 "metadata": {
  "kernelspec": {
   "display_name": "base",
   "language": "python",
   "name": "python3"
  },
  "language_info": {
   "codemirror_mode": {
    "name": "ipython",
    "version": 3
   },
   "file_extension": ".py",
   "mimetype": "text/x-python",
   "name": "python",
   "nbconvert_exporter": "python",
   "pygments_lexer": "ipython3",
   "version": "3.9.12"
  },
  "orig_nbformat": 4
 },
 "nbformat": 4,
 "nbformat_minor": 2
}
